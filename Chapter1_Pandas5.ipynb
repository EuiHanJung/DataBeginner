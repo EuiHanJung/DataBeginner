{
  "nbformat": 4,
  "nbformat_minor": 0,
  "metadata": {
    "colab": {
      "name": "Untitled0.ipynb",
      "provenance": [],
      "authorship_tag": "ABX9TyNoBeN8ZPJqK9+OZvZxhGmp",
      "include_colab_link": true
    },
    "kernelspec": {
      "name": "python3",
      "display_name": "Python 3"
    },
    "language_info": {
      "name": "python"
    }
  },
  "cells": [
    {
      "cell_type": "markdown",
      "metadata": {
        "id": "view-in-github",
        "colab_type": "text"
      },
      "source": [
        "<a href=\"https://colab.research.google.com/github/EuiHanJung/DataBeginner/blob/main/Chapter1_Pandas5.ipynb\" target=\"_parent\"><img src=\"https://colab.research.google.com/assets/colab-badge.svg\" alt=\"Open In Colab\"/></a>"
      ]
    },
    {
      "cell_type": "markdown",
      "metadata": {
        "id": "Mr9Jjm5LyIQz"
      },
      "source": [
        "# 1장 : 판다스의 기초 _ 5일차\n",
        "\n",
        "1_3 데이터프레임 분석(exploratory_analysis)"
      ]
    },
    {
      "cell_type": "code",
      "metadata": {
        "id": "We1WY3T9yEbX"
      },
      "source": [
        "# -*- coding: utf-8 -*-\n",
        "\n",
        "import pandas as pd\n",
        "\n",
        "# read_csv() 함수로 df 생성\n",
        "df = pd.read_csv('./auto-mpg.csv', header=None)\n",
        "\n",
        "# 열 이름을 지정\n",
        "df.columns = ['mpg','cylinders','displacement','horsepower','weight',\n",
        "              'acceleration','model year','origin','name']\n",
        "\n",
        "\n",
        "# 데이터프레임 df의 기술통계 정보 확인 \n",
        "print(df.describe())\n",
        "print('\\n')\n",
        "print(df.describe(include='pd.np.object' ))"
      ],
      "execution_count": null,
      "outputs": []
    },
    {
      "cell_type": "markdown",
      "metadata": {
        "id": "Uz4gGpARyavu"
      },
      "source": [
        "1_3 데이터프레임 분석 _ 원소 개수, 객체 타입, 특정 열 고유값, 메소드 반환 객체타입"
      ]
    },
    {
      "cell_type": "code",
      "metadata": {
        "id": "htwFOUEyya0t"
      },
      "source": [
        "# read_csv() 함수로 df 생성\n",
        "df = pd.read_csv('./auto-mpg.csv', header=None)\n",
        "\n",
        "# 열 이름을 지정\n",
        "df.columns = ['mpg','cylinders','displacement','horsepower','weight',\n",
        "              'acceleration','model year','origin','name']\n",
        "\n",
        "# 데이터프레임 df의 각 열이 가지고 있는 원소 개수 확인 \n",
        "print(df.count())\n",
        "print('\\n')\n",
        "\n",
        "# df.count()가 반환하는 객체 타입 출력\n",
        "print(type(df.count()))\n",
        "print('\\n')\n",
        "\n",
        "# 데이터프레임 df의 특정 열이 가지고 있는 고유값 확인 \n",
        "unique_values = df['origin'].value_counts() \n",
        "print(unique_values)\n",
        "print('\\n')\n",
        "\n",
        "# value_counts 메소드가 반환하는 객체 타입 출력\n",
        "print(type(unique_values))"
      ],
      "execution_count": null,
      "outputs": []
    },
    {
      "cell_type": "markdown",
      "metadata": {
        "id": "RJyuPk0Uya42"
      },
      "source": [
        "1_3 데이터프레임 분석 _ 평균, 중간, 최대, 최소, 표준편차, 상관계수값"
      ]
    },
    {
      "cell_type": "code",
      "metadata": {
        "id": "J_glOhJzya9F"
      },
      "source": [
        "# read_csv() 함수로 df 생성\n",
        "df = pd.read_csv('./auto-mpg.csv', header=None)\n",
        "\n",
        "# 열 이름을 지정\n",
        "df.columns = ['mpg','cylinders','displacement','horsepower','weight',\n",
        "              'acceleration','model year','origin','name']\n",
        "\n",
        "# 평균값 \n",
        "print(df.mean())\n",
        "print('\\n')\n",
        "print(df['mpg'].mean())\n",
        "print(df.mpg.mean())\n",
        "print('\\n')\n",
        "print(df[['mpg','weight']].mean())\n",
        "\n",
        "# 중간값 \n",
        "print(df.median())\n",
        "print('\\n')\n",
        "print(df['mpg'].median())\n",
        "\n",
        "# 최대값 \n",
        "print(df.max())\n",
        "print('\\n')\n",
        "print(df['mpg'].max())\n",
        "\n",
        "# 최소값 \n",
        "print(df.min())\n",
        "print('\\n')\n",
        "print(df['mpg'].min())\n",
        "\n",
        "# 표준편차 \n",
        "print(df.std())\n",
        "print('\\n')\n",
        "print(df['mpg'].std())\n",
        "\n",
        "# 상관계수 \n",
        "print(df.corr())\n",
        "print('\\n')\n",
        "print(df[['mpg','weight']].corr())"
      ],
      "execution_count": null,
      "outputs": []
    }
  ]
}