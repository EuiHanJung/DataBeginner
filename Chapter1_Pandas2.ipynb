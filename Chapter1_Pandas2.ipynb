{
  "nbformat": 4,
  "nbformat_minor": 0,
  "metadata": {
    "colab": {
      "name": "Chapter1_Pandas2.ipynb",
      "provenance": [],
      "authorship_tag": "ABX9TyOItQbg/v2UGT++Ki9w0pDP",
      "include_colab_link": true
    },
    "kernelspec": {
      "name": "python3",
      "display_name": "Python 3"
    },
    "language_info": {
      "name": "python"
    }
  },
  "cells": [
    {
      "cell_type": "markdown",
      "metadata": {
        "id": "view-in-github",
        "colab_type": "text"
      },
      "source": [
        "<a href=\"https://colab.research.google.com/github/EuiHanJung/DataBeginner/blob/main/Chapter1_Pandas2.ipynb\" target=\"_parent\"><img src=\"https://colab.research.google.com/assets/colab-badge.svg\" alt=\"Open In Colab\"/></a>"
      ]
    },
    {
      "cell_type": "markdown",
      "metadata": {
        "id": "IelTDi5FOyy-"
      },
      "source": [
        "# 1장 : 판다스의 기초 _ 2일차\n",
        "\n",
        "1_2 데이터프레임 열 인덱스 지정(select element)"
      ]
    },
    {
      "cell_type": "code",
      "metadata": {
        "colab": {
          "base_uri": "https://localhost:8080/"
        },
        "id": "52-ii084NmR_",
        "outputId": "58e99281-d0a7-49e7-c4ab-911839cbf4af"
      },
      "source": [
        "import pandas as pd\n",
        "\n",
        "# DataFrame() 함수로 데이터프레임 변환. 변수 df에 저장 \n",
        "exam_data = {'이름' : [ '서준', '우현', '인아'],\n",
        "             '수학' : [ 90, 80, 70],\n",
        "             '영어' : [ 98, 89, 95],\n",
        "             '음악' : [ 85, 95, 100],\n",
        "             '체육' : [ 100, 90, 90]}\n",
        "df = pd.DataFrame(exam_data)\n",
        "\n",
        "# '이름' 열을 새로운 인덱스로 지정하고, df 객체에 변경사항 반영\n",
        "# df.set_index('이름', inplace=True)\n",
        "print(df)\n",
        "print('\\n')"
      ],
      "execution_count": 1,
      "outputs": [
        {
          "output_type": "stream",
          "text": [
            "   이름  수학  영어   음악   체육\n",
            "0  서준  90  98   85  100\n",
            "1  우현  80  89   95   90\n",
            "2  인아  70  95  100   90\n",
            "\n",
            "\n"
          ],
          "name": "stdout"
        }
      ]
    },
    {
      "cell_type": "markdown",
      "metadata": {
        "id": "Y3Zo7gXDRBR_"
      },
      "source": [
        "1_2 데이터프레임 컬럼 추가(add column)"
      ]
    },
    {
      "cell_type": "code",
      "metadata": {
        "colab": {
          "base_uri": "https://localhost:8080/"
        },
        "id": "6zaW5QSBOsL-",
        "outputId": "565eccc3-8526-4d92-82f3-7ebc65fb0ed7"
      },
      "source": [
        "# DataFrame() 함수로 데이터프레임 변환. 변수 df에 저장 \n",
        "exam_data = {'이름' : [ '서준', '우현', '인아'],\n",
        "             '수학' : [ 90, 80, 70],\n",
        "             '영어' : [ 98, 89, 95],\n",
        "             '음악' : [ 85, 95, 100],\n",
        "             '체육' : [ 100, 90, 90]}\n",
        "df = pd.DataFrame(exam_data)\n",
        "print(df)\n",
        "print('\\n')\n",
        "\n",
        "# 데이터프레임 df에 '국어' 점수 열(column)을 추가. 데이터 값은 80 지정\n",
        "df['국어'] = 80\n",
        "print(df)"
      ],
      "execution_count": 2,
      "outputs": [
        {
          "output_type": "stream",
          "text": [
            "   이름  수학  영어   음악   체육\n",
            "0  서준  90  98   85  100\n",
            "1  우현  80  89   95   90\n",
            "2  인아  70  95  100   90\n",
            "\n",
            "\n",
            "   이름  수학  영어   음악   체육  국어\n",
            "0  서준  90  98   85  100  80\n",
            "1  우현  80  89   95   90  80\n",
            "2  인아  70  95  100   90  80\n"
          ],
          "name": "stdout"
        }
      ]
    },
    {
      "cell_type": "markdown",
      "metadata": {
        "id": "Xs6TuUmaRKqR"
      },
      "source": [
        "1_2 데이터프레임 행 추가(add row)"
      ]
    },
    {
      "cell_type": "code",
      "metadata": {
        "colab": {
          "base_uri": "https://localhost:8080/"
        },
        "id": "WqkPclf2OxZ3",
        "outputId": "387d98a9-25de-4672-e9a1-7d3165724466"
      },
      "source": [
        "# DataFrame() 함수로 데이터프레임 변환. 변수 df에 저장 \n",
        "exam_data = {'이름' : ['서준', '우현', '인아'],\n",
        "             '수학' : [ 90, 80, 70],\n",
        "             '영어' : [ 98, 89, 95],\n",
        "             '음악' : [ 85, 95, 100],\n",
        "             '체육' : [ 100, 90, 90]}\n",
        "df = pd.DataFrame(exam_data)\n",
        "print(df)\n",
        "print('\\n')\n",
        "\n",
        "# 새로운 행(row)을 추가 - 같은 원소 값을 입력\n",
        "df.loc[3] = 0\n",
        "print(df)\n",
        "print('\\n')\n",
        "\n",
        "# 새로운 행(row)을 추가 - 원소 값 여러 개의 배열 입력\n",
        "df.loc[10] = 0\n",
        "print(df)\n",
        "print('\\n')\n",
        "\n",
        "# 새로운 행(row)을 추가 - 기존 행을 복사\n",
        "df.loc['행5'] = df.loc[3]\n",
        "print(df)"
      ],
      "execution_count": 3,
      "outputs": [
        {
          "output_type": "stream",
          "text": [
            "   이름  수학  영어   음악   체육\n",
            "0  서준  90  98   85  100\n",
            "1  우현  80  89   95   90\n",
            "2  인아  70  95  100   90\n",
            "\n",
            "\n",
            "   이름  수학  영어   음악   체육\n",
            "0  서준  90  98   85  100\n",
            "1  우현  80  89   95   90\n",
            "2  인아  70  95  100   90\n",
            "3   0   0   0    0    0\n",
            "\n",
            "\n",
            "    이름  수학  영어   음악   체육\n",
            "0   서준  90  98   85  100\n",
            "1   우현  80  89   95   90\n",
            "2   인아  70  95  100   90\n",
            "3    0   0   0    0    0\n",
            "10   0   0   0    0    0\n",
            "\n",
            "\n",
            "    이름  수학  영어   음악   체육\n",
            "0   서준  90  98   85  100\n",
            "1   우현  80  89   95   90\n",
            "2   인아  70  95  100   90\n",
            "3    0   0   0    0    0\n",
            "10   0   0   0    0    0\n",
            "행5   0   0   0    0    0\n"
          ],
          "name": "stdout"
        }
      ]
    },
    {
      "cell_type": "markdown",
      "metadata": {
        "id": "rU4NdotPRWU4"
      },
      "source": [
        "1_2 데이터프레임 원소값 변경"
      ]
    },
    {
      "cell_type": "code",
      "metadata": {
        "colab": {
          "base_uri": "https://localhost:8080/"
        },
        "id": "LzlboJbePS-X",
        "outputId": "4211b3a3-b0eb-4e31-b928-30381822b1a0"
      },
      "source": [
        "# DataFrame() 함수로 데이터프레임 변환. 변수 df에 저장 \n",
        "exam_data = {'이름' : [ '서준', '우현', '인아'],\n",
        "             '수학' : [ 90, 80, 70],\n",
        "             '영어' : [ 98, 89, 95],\n",
        "             '음악' : [ 85, 95, 100],\n",
        "             '체육' : [ 100, 90, 90]}\n",
        "df = pd.DataFrame(exam_data)\n",
        "\n",
        "# '이름' 열을 새로운 인덱스로 지정하고, df 객체에 변경사항 반영\n",
        "df.set_index('이름', inplace=True)\n",
        "print(df)\n",
        "print('\\n')\n",
        "\n",
        "# 데이터프레임 df의 특정 원소를 변경하는 방법: '서준'의 '체육' 점수\n",
        "df.iloc[0][3] = 80\n",
        "print(df)\n",
        "print('\\n')\n",
        "\n",
        "df.loc['서준']['체육'] = 90\n",
        "print(df)\n",
        "print('\\n')\n",
        "\n",
        "df.loc['서준', '체육'] = 100\n",
        "print(df)\n",
        "print('\\n')\n",
        "\n",
        "# 데이터프레임 df의 원소 여러 개를 변경하는 방법: '서준'의 '음악', '체육' 점수\n",
        "df.loc['서준', ['음악', '체육']] = 50\n",
        "print(df)\n",
        "print('\\n')\n",
        "\n",
        "df.loc['서준', ['음악', '체육']] = 100, 50\n",
        "print(df)"
      ],
      "execution_count": 4,
      "outputs": [
        {
          "output_type": "stream",
          "text": [
            "    수학  영어   음악   체육\n",
            "이름                  \n",
            "서준  90  98   85  100\n",
            "우현  80  89   95   90\n",
            "인아  70  95  100   90\n",
            "\n",
            "\n",
            "    수학  영어   음악  체육\n",
            "이름                 \n",
            "서준  90  98   85  80\n",
            "우현  80  89   95  90\n",
            "인아  70  95  100  90\n",
            "\n",
            "\n",
            "    수학  영어   음악  체육\n",
            "이름                 \n",
            "서준  90  98   85  90\n",
            "우현  80  89   95  90\n",
            "인아  70  95  100  90\n",
            "\n",
            "\n",
            "    수학  영어   음악   체육\n",
            "이름                  \n",
            "서준  90  98   85  100\n",
            "우현  80  89   95   90\n",
            "인아  70  95  100   90\n",
            "\n",
            "\n",
            "    수학  영어   음악  체육\n",
            "이름                 \n",
            "서준  90  98   50  50\n",
            "우현  80  89   95  90\n",
            "인아  70  95  100  90\n",
            "\n",
            "\n",
            "    수학  영어   음악  체육\n",
            "이름                 \n",
            "서준  90  98  100  50\n",
            "우현  80  89   95  90\n",
            "인아  70  95  100  90\n"
          ],
          "name": "stdout"
        }
      ]
    },
    {
      "cell_type": "markdown",
      "metadata": {
        "id": "uV9vbWcJRr1J"
      },
      "source": [
        "1_2 데이터프레임 전치"
      ]
    },
    {
      "cell_type": "code",
      "metadata": {
        "colab": {
          "base_uri": "https://localhost:8080/"
        },
        "id": "IzCunvnwQi1S",
        "outputId": "303235d9-7814-461e-8ad5-cac849723412"
      },
      "source": [
        "# DataFrame() 함수로 데이터프레임 변환. 변수 df에 저장 \n",
        "exam_data = {'이름' : [ '서준', '우현', '인아'],\n",
        "             '수학' : [ 90, 80, 70],\n",
        "             '영어' : [ 98, 89, 95],\n",
        "             '음악' : [ 85, 95, 100],\n",
        "             '체육' : [ 100, 90, 90]}\n",
        "df = pd.DataFrame(exam_data)\n",
        "print(df)\n",
        "print('\\n')\n",
        "\n",
        "# 데이터프레임 df를 전치하기 (메소드 활용)\n",
        "df = df.transpose()\n",
        "print(df)\n",
        "print('\\n')\n",
        "\n",
        "# 데이터프레임 df를 다시 전치하기 (클래스 속성 활용)\n",
        "df = df.T\n",
        "print(df)"
      ],
      "execution_count": 5,
      "outputs": [
        {
          "output_type": "stream",
          "text": [
            "   이름  수학  영어   음악   체육\n",
            "0  서준  90  98   85  100\n",
            "1  우현  80  89   95   90\n",
            "2  인아  70  95  100   90\n",
            "\n",
            "\n",
            "      0   1    2\n",
            "이름   서준  우현   인아\n",
            "수학   90  80   70\n",
            "영어   98  89   95\n",
            "음악   85  95  100\n",
            "체육  100  90   90\n",
            "\n",
            "\n",
            "   이름  수학  영어   음악   체육\n",
            "0  서준  90  98   85  100\n",
            "1  우현  80  89   95   90\n",
            "2  인아  70  95  100   90\n"
          ],
          "name": "stdout"
        }
      ]
    },
    {
      "cell_type": "markdown",
      "metadata": {
        "id": "BvEqwBabR0Cx"
      },
      "source": [
        "1_2 데이터프레임 행 인덱스 설정"
      ]
    },
    {
      "cell_type": "code",
      "metadata": {
        "colab": {
          "base_uri": "https://localhost:8080/"
        },
        "id": "bbS-jiSkQnsU",
        "outputId": "acb9a5c4-1ace-43e0-9933-1affe3346355"
      },
      "source": [
        "# DataFrame() 함수로 데이터프레임 변환. 변수 df에 저장 \n",
        "exam_data = {'이름' : [ '서준', '우현', '인아'],\n",
        "             '수학' : [ 90, 80, 70],\n",
        "             '영어' : [ 98, 89, 95],\n",
        "             '음악' : [ 85, 95, 100],\n",
        "             '체육' : [ 100, 90, 90]}\n",
        "df = pd.DataFrame(exam_data)\n",
        "print(df)\n",
        "print('\\n')\n",
        "\n",
        "# 특정 열(column)을 데이터프레임의 행 인덱스(index)로 설정 \n",
        "ndf = df.set_index(['이름'])\n",
        "print(ndf)\n",
        "print('\\n')\n",
        "ndf2 = ndf.set_index('음악')\n",
        "print(ndf2)\n",
        "print('\\n')\n",
        "ndf3 = ndf.set_index(['수학', '음악'])\n",
        "print(ndf3)"
      ],
      "execution_count": 6,
      "outputs": [
        {
          "output_type": "stream",
          "text": [
            "   이름  수학  영어   음악   체육\n",
            "0  서준  90  98   85  100\n",
            "1  우현  80  89   95   90\n",
            "2  인아  70  95  100   90\n",
            "\n",
            "\n",
            "    수학  영어   음악   체육\n",
            "이름                  \n",
            "서준  90  98   85  100\n",
            "우현  80  89   95   90\n",
            "인아  70  95  100   90\n",
            "\n",
            "\n",
            "     수학  영어   체육\n",
            "음악              \n",
            "85   90  98  100\n",
            "95   80  89   90\n",
            "100  70  95   90\n",
            "\n",
            "\n",
            "        영어   체육\n",
            "수학 음악          \n",
            "90 85   98  100\n",
            "80 95   89   90\n",
            "70 100  95   90\n"
          ],
          "name": "stdout"
        }
      ]
    },
    {
      "cell_type": "markdown",
      "metadata": {
        "id": "pZgUPuxGSHBP"
      },
      "source": [
        "1_2 데이터프레임 인덱스 재지정"
      ]
    },
    {
      "cell_type": "code",
      "metadata": {
        "colab": {
          "base_uri": "https://localhost:8080/"
        },
        "id": "PzWKWtZnQqYw",
        "outputId": "968c86e2-574e-4139-9c82-886205a6e910"
      },
      "source": [
        "# 딕셔서리를 정의\n",
        "dict_data = {'c0':[1,2,3], 'c1':[4,5,6], 'c2':[7,8,9], 'c3':[10,11,12], 'c4':[13,14,15]}\n",
        "\n",
        "# 딕셔서리를 데이터프레임으로 변환. 인덱스를 [r0, r1, r2]로 지정\n",
        "df = pd.DataFrame(dict_data, index=['r0', 'r1', 'r2'])\n",
        "print(df)\n",
        "print('\\n')\n",
        "\n",
        "# 인덱스를 [r0, r1, r2, r3, r4]로 재지정\n",
        "new_index = ['r0', 'r1', 'r2', 'r3', 'r4']\n",
        "ndf = df.reindex(new_index)\n",
        "print(ndf)\n",
        "print('\\n')\n",
        "\n",
        "# reindex로 발생한 NaN값을 숫자 0으로 채우기\n",
        "new_index = ['r0', 'r1', 'r2', 'r3', 'r4']\n",
        "ndf2 = df.reindex(new_index, fill_value=0)\n",
        "print(ndf2)"
      ],
      "execution_count": 7,
      "outputs": [
        {
          "output_type": "stream",
          "text": [
            "    c0  c1  c2  c3  c4\n",
            "r0   1   4   7  10  13\n",
            "r1   2   5   8  11  14\n",
            "r2   3   6   9  12  15\n",
            "\n",
            "\n",
            "     c0   c1   c2    c3    c4\n",
            "r0  1.0  4.0  7.0  10.0  13.0\n",
            "r1  2.0  5.0  8.0  11.0  14.0\n",
            "r2  3.0  6.0  9.0  12.0  15.0\n",
            "r3  NaN  NaN  NaN   NaN   NaN\n",
            "r4  NaN  NaN  NaN   NaN   NaN\n",
            "\n",
            "\n",
            "    c0  c1  c2  c3  c4\n",
            "r0   1   4   7  10  13\n",
            "r1   2   5   8  11  14\n",
            "r2   3   6   9  12  15\n",
            "r3   0   0   0   0   0\n",
            "r4   0   0   0   0   0\n"
          ],
          "name": "stdout"
        }
      ]
    },
    {
      "cell_type": "markdown",
      "metadata": {
        "id": "V1PPJyl0SWOc"
      },
      "source": [
        "1_2 데이터프레임 인덱스 초기화"
      ]
    },
    {
      "cell_type": "code",
      "metadata": {
        "colab": {
          "base_uri": "https://localhost:8080/"
        },
        "id": "dvuZ3UOhQt4Y",
        "outputId": "76bdab8b-e45e-49ff-8fa9-bf8df3b8a241"
      },
      "source": [
        "# 딕셔서리를 정의\n",
        "dict_data = {'c0':[1,2,3], 'c1':[4,5,6], 'c2':[7,8,9], 'c3':[10,11,12], 'c4':[13,14,15]}\n",
        "\n",
        "# 딕셔서리를 데이터프레임으로 변환. 인덱스를 [r0, r1, r2]로 지정\n",
        "df = pd.DataFrame(dict_data, index=['r0', 'r1', 'r2'])\n",
        "print(df)\n",
        "print('\\n')\n",
        "\n",
        "# 행 인덱스를 정수형으로 초기화 \n",
        "ndf = df.reset_index()\n",
        "print(ndf)"
      ],
      "execution_count": 8,
      "outputs": [
        {
          "output_type": "stream",
          "text": [
            "    c0  c1  c2  c3  c4\n",
            "r0   1   4   7  10  13\n",
            "r1   2   5   8  11  14\n",
            "r2   3   6   9  12  15\n",
            "\n",
            "\n",
            "  index  c0  c1  c2  c3  c4\n",
            "0    r0   1   4   7  10  13\n",
            "1    r1   2   5   8  11  14\n",
            "2    r2   3   6   9  12  15\n"
          ],
          "name": "stdout"
        }
      ]
    },
    {
      "cell_type": "markdown",
      "metadata": {
        "id": "kLF206G2SdE8"
      },
      "source": [
        "1_2 데이터프레임 행기준 인덱스 정렬"
      ]
    },
    {
      "cell_type": "code",
      "metadata": {
        "colab": {
          "base_uri": "https://localhost:8080/"
        },
        "id": "dBKJi_ACQwCf",
        "outputId": "ffce6efe-9517-4a50-d079-46d73a02b7c7"
      },
      "source": [
        "# 딕셔서리를 정의\n",
        "dict_data = {'c0':[1,2,3], 'c1':[4,5,6], 'c2':[7,8,9], 'c3':[10,11,12], 'c4':[13,14,15]}\n",
        "\n",
        "# 딕셔서리를 데이터프레임으로 변환. 인덱스를 [r0, r1, r2]로 지정\n",
        "df = pd.DataFrame(dict_data, index=['r0', 'r1', 'r2'])\n",
        "print(df)\n",
        "print('\\n')\n",
        "\n",
        "# 내림차순으로 행 인덱스 정렬 \n",
        "ndf = df.sort_index(ascending=False)\n",
        "print(ndf)"
      ],
      "execution_count": 9,
      "outputs": [
        {
          "output_type": "stream",
          "text": [
            "    c0  c1  c2  c3  c4\n",
            "r0   1   4   7  10  13\n",
            "r1   2   5   8  11  14\n",
            "r2   3   6   9  12  15\n",
            "\n",
            "\n",
            "    c0  c1  c2  c3  c4\n",
            "r2   3   6   9  12  15\n",
            "r1   2   5   8  11  14\n",
            "r0   1   4   7  10  13\n"
          ],
          "name": "stdout"
        }
      ]
    },
    {
      "cell_type": "markdown",
      "metadata": {
        "id": "jkhweZjcSgW1"
      },
      "source": [
        "1_2 데이터프레임 열기준 인덱스 정렬"
      ]
    },
    {
      "cell_type": "code",
      "metadata": {
        "colab": {
          "base_uri": "https://localhost:8080/"
        },
        "id": "n0h7-ifnQyk6",
        "outputId": "2ba75a3c-1ff5-4a72-b3a9-bc91e259699e"
      },
      "source": [
        "# 딕셔서리를 정의\n",
        "dict_data = {'c0':[1,2,3], 'c1':[4,5,6], 'c2':[7,8,9], 'c3':[10,11,12], 'c4':[13,14,15]}\n",
        "\n",
        "# 딕셔서리를 데이터프레임으로 변환. 인덱스를 [r0, r1, r2]로 지정\n",
        "df = pd.DataFrame(dict_data, index=['r0', 'r1', 'r2'])\n",
        "print(df)\n",
        "print('\\n')\n",
        "\n",
        "# c1 열을 기준으로 내림차순 정렬 \n",
        "ndf = df.sort_values(by='c1', ascending=False)\n",
        "print(ndf)"
      ],
      "execution_count": 10,
      "outputs": [
        {
          "output_type": "stream",
          "text": [
            "    c0  c1  c2  c3  c4\n",
            "r0   1   4   7  10  13\n",
            "r1   2   5   8  11  14\n",
            "r2   3   6   9  12  15\n",
            "\n",
            "\n",
            "    c0  c1  c2  c3  c4\n",
            "r2   3   6   9  12  15\n",
            "r1   2   5   8  11  14\n",
            "r0   1   4   7  10  13\n"
          ],
          "name": "stdout"
        }
      ]
    }
  ]
}