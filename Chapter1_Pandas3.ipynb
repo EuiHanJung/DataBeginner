{
  "nbformat": 4,
  "nbformat_minor": 0,
  "metadata": {
    "colab": {
      "name": "Chapter1_Pandas3.ipynb",
      "provenance": [],
      "authorship_tag": "ABX9TyN1EgZozjv+GahVdT0jfzim",
      "include_colab_link": true
    },
    "kernelspec": {
      "name": "python3",
      "display_name": "Python 3"
    },
    "language_info": {
      "name": "python"
    }
  },
  "cells": [
    {
      "cell_type": "markdown",
      "metadata": {
        "id": "view-in-github",
        "colab_type": "text"
      },
      "source": [
        "<a href=\"https://colab.research.google.com/github/EuiHanJung/DataBeginner/blob/main/Chapter1_Pandas3.ipynb\" target=\"_parent\"><img src=\"https://colab.research.google.com/assets/colab-badge.svg\" alt=\"Open In Colab\"/></a>"
      ]
    },
    {
      "cell_type": "markdown",
      "metadata": {
        "id": "6KYyJdW9Lyw1"
      },
      "source": [
        "# 1장 : 판다스의 기초 _ 3일차\n",
        "\n",
        "1_2 데이터프레임 연산"
      ]
    },
    {
      "cell_type": "code",
      "metadata": {
        "colab": {
          "base_uri": "https://localhost:8080/"
        },
        "id": "2nfbzCOQLeG7",
        "outputId": "e9bb71a3-174c-4faf-ca2b-ffdca14f5d9b"
      },
      "source": [
        "# 라이브러리 불러오기 \n",
        "import pandas as pd\n",
        "import numpy as np\n",
        "\n",
        "# 딕셔너리 데이터로 판다스 시리즈 만들기\n",
        "student1 = pd.Series({'국어':100, '영어':80, '수학':90})\n",
        "student2 = pd.Series({'수학':80, '국어':90, '영어':80})\n",
        "\n",
        "print(student1)\n",
        "print('\\n')\n",
        "print(student2)\n",
        "print('\\n')\n",
        "\n",
        "# 두 학생의 과목별 점수로 사칙연산 수행\n",
        "addition = student1 + student2               #덧셈\n",
        "subtraction = student1 - student2            #뺄셈\n",
        "multiplication = student1 * student2         #곱셈\n",
        "division = student1 / student2               #나눗셈\n",
        "print(type(division))\n",
        "print('\\n')\n",
        "\n",
        "# 사칙연산 결과를 데이터프레임으로 합치기 (시리즈 -> 데이터프레임)\n",
        "result = pd.DataFrame([addition, subtraction, multiplication, division], \n",
        "                      index=['덧셈', '뺄셈', '곱셈', '나눗셈'])\n",
        "print(result)"
      ],
      "execution_count": 2,
      "outputs": [
        {
          "output_type": "stream",
          "text": [
            "국어    100\n",
            "영어     80\n",
            "수학     90\n",
            "dtype: int64\n",
            "\n",
            "\n",
            "수학    80\n",
            "국어    90\n",
            "영어    80\n",
            "dtype: int64\n",
            "\n",
            "\n",
            "<class 'pandas.core.series.Series'>\n",
            "\n",
            "\n",
            "              국어        수학      영어\n",
            "덧셈    190.000000   170.000   160.0\n",
            "뺄셈     10.000000    10.000     0.0\n",
            "곱셈   9000.000000  7200.000  6400.0\n",
            "나눗셈     1.111111     1.125     1.0\n"
          ],
          "name": "stdout"
        }
      ]
    },
    {
      "cell_type": "markdown",
      "metadata": {
        "id": "rdfpro6mMJtC"
      },
      "source": [
        "1_2 데이터프레임 결과 데이터프레임으로 합치기(series_to_series)"
      ]
    },
    {
      "cell_type": "code",
      "metadata": {
        "colab": {
          "base_uri": "https://localhost:8080/"
        },
        "id": "G8LMCBrcLkMj",
        "outputId": "3640ac69-9942-4840-b170-a4801a9abaa2"
      },
      "source": [
        "# 딕셔너리 데이터로 판다스 시리즈 만들기\n",
        "student1 = pd.Series({'국어':np.nan, '영어':80, '수학':90})\n",
        "student2 = pd.Series({'수학':80, '국어':90})\n",
        "\n",
        "print(student1)\n",
        "print('\\n')\n",
        "print(student2)\n",
        "print('\\n')\n",
        "\n",
        "# 두 학생의 과목별 점수로 사칙연산 수행 (연산 메소드 사용)\n",
        "sr_add = student1.add(student2, fill_value=0)    #덧셈\n",
        "sr_sub = student1.sub(student2, fill_value=0)    #뺄셈\n",
        "sr_mul = student1.mul(student2, fill_value=0)    #곱셈\n",
        "sr_div = student1.div(student2, fill_value=0)    #나눗셈\n",
        "\n",
        "# 사칙연산 결과를 데이터프레임으로 합치기 (시리즈 -> 데이터프레임)\n",
        "result = pd.DataFrame([sr_add, sr_sub, sr_mul, sr_div], \n",
        "                      index=['덧셈', '뺄셈', '곱셈', '나눗셈'])\n",
        "print(result)"
      ],
      "execution_count": 4,
      "outputs": [
        {
          "output_type": "stream",
          "text": [
            "국어     NaN\n",
            "영어    80.0\n",
            "수학    90.0\n",
            "dtype: float64\n",
            "\n",
            "\n",
            "수학    80\n",
            "국어    90\n",
            "dtype: int64\n",
            "\n",
            "\n",
            "       국어        수학    영어\n",
            "덧셈   90.0   170.000  80.0\n",
            "뺄셈  -90.0    10.000  80.0\n",
            "곱셈    0.0  7200.000   0.0\n",
            "나눗셈   0.0     1.125   inf\n"
          ],
          "name": "stdout"
        }
      ]
    },
    {
      "cell_type": "markdown",
      "metadata": {
        "id": "4GvVKhJ3MkyZ"
      },
      "source": [
        "1_2 데이터프레임 행렬에 더하기(df_to_number)"
      ]
    },
    {
      "cell_type": "code",
      "metadata": {
        "colab": {
          "base_uri": "https://localhost:8080/"
        },
        "id": "aVhFrI9nLmfM",
        "outputId": "05a31a19-cbb3-4b7e-96b2-1daed856695e"
      },
      "source": [
        "# titanic 데이터셋에서 age, fare 2개 열을 선택하여 데이터프레임 만들기\n",
        "titanic = sns.load_dataset('titanic')\n",
        "df = titanic.loc[:, ['age','fare']]\n",
        "print(df.head())   #첫 5행만 표시\n",
        "print('\\n')\n",
        "print(type(df))\n",
        "print('\\n')\n",
        "\n",
        "# 데이터프레임에 숫자 10 더하기\n",
        "addition = df + 10\n",
        "print(addition.head())   #첫 5행만 표시\n",
        "print('\\n')\n",
        "print(type(addition))"
      ],
      "execution_count": 5,
      "outputs": [
        {
          "output_type": "stream",
          "text": [
            "    age     fare\n",
            "0  22.0   7.2500\n",
            "1  38.0  71.2833\n",
            "2  26.0   7.9250\n",
            "3  35.0  53.1000\n",
            "4  35.0   8.0500\n",
            "\n",
            "\n",
            "<class 'pandas.core.frame.DataFrame'>\n",
            "\n",
            "\n",
            "    age     fare\n",
            "0  32.0  17.2500\n",
            "1  48.0  81.2833\n",
            "2  36.0  17.9250\n",
            "3  45.0  63.1000\n",
            "4  45.0  18.0500\n",
            "\n",
            "\n",
            "<class 'pandas.core.frame.DataFrame'>\n"
          ],
          "name": "stdout"
        }
      ]
    },
    {
      "cell_type": "markdown",
      "metadata": {
        "id": "FS155RU9M0hi"
      },
      "source": [
        "1_2 데이터프레임 행렬끼리 연산"
      ]
    },
    {
      "cell_type": "code",
      "metadata": {
        "colab": {
          "base_uri": "https://localhost:8080/"
        },
        "id": "q_yeeZD6Loxg",
        "outputId": "600a7b74-846c-46f7-a946-942966a412b6"
      },
      "source": [
        "# titanic 데이터셋에서 age, fare 2개 열을 선택하여 데이터프레임 만들기\n",
        "titanic = sns.load_dataset('titanic')\n",
        "df = titanic.loc[:, ['age','fare']]\n",
        "print(df.tail())          #마지막 5행을 표시\n",
        "print('\\n')\n",
        "print(type(df))\n",
        "print('\\n')\n",
        "\n",
        "# 데이터프레임에 숫자 10 더하기\n",
        "addition = df + 10\n",
        "print(addition.tail())    #마지막 5행을 표시\n",
        "print('\\n')\n",
        "print(type(addition))\n",
        "print('\\n')\n",
        "\n",
        "# 데이터프레임끼리 연산하기 (additon - df)\n",
        "subtraction = addition - df\n",
        "print(subtraction.tail())   #마지막 5행을 표시\n",
        "print('\\n')\n",
        "print(type(subtraction))"
      ],
      "execution_count": 6,
      "outputs": [
        {
          "output_type": "stream",
          "text": [
            "      age   fare\n",
            "886  27.0  13.00\n",
            "887  19.0  30.00\n",
            "888   NaN  23.45\n",
            "889  26.0  30.00\n",
            "890  32.0   7.75\n",
            "\n",
            "\n",
            "<class 'pandas.core.frame.DataFrame'>\n",
            "\n",
            "\n",
            "      age   fare\n",
            "886  37.0  23.00\n",
            "887  29.0  40.00\n",
            "888   NaN  33.45\n",
            "889  36.0  40.00\n",
            "890  42.0  17.75\n",
            "\n",
            "\n",
            "<class 'pandas.core.frame.DataFrame'>\n",
            "\n",
            "\n",
            "      age  fare\n",
            "886  10.0  10.0\n",
            "887  10.0  10.0\n",
            "888   NaN  10.0\n",
            "889  10.0  10.0\n",
            "890  10.0  10.0\n",
            "\n",
            "\n",
            "<class 'pandas.core.frame.DataFrame'>\n"
          ],
          "name": "stdout"
        }
      ]
    }
  ]
}