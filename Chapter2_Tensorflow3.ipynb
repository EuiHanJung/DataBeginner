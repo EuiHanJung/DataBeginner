{
  "nbformat": 4,
  "nbformat_minor": 0,
  "metadata": {
    "colab": {
      "name": "Chapter2_Tensorflow3.ipynb",
      "provenance": [],
      "authorship_tag": "ABX9TyP1oYFbR5A1Qh7xgt7GZ2H7",
      "include_colab_link": true
    },
    "kernelspec": {
      "name": "python3",
      "display_name": "Python 3"
    },
    "language_info": {
      "name": "python"
    }
  },
  "cells": [
    {
      "cell_type": "markdown",
      "metadata": {
        "id": "view-in-github",
        "colab_type": "text"
      },
      "source": [
        "<a href=\"https://colab.research.google.com/github/EuiHanJung/DataBeginner/blob/main/Chapter2_Tensorflow3.ipynb\" target=\"_parent\"><img src=\"https://colab.research.google.com/assets/colab-badge.svg\" alt=\"Open In Colab\"/></a>"
      ]
    },
    {
      "cell_type": "markdown",
      "metadata": {
        "id": "JOpAABecc1eF"
      },
      "source": [
        "# 2장 텐서플로우\n",
        "\n",
        "Tensorflow 버전 : Optimizers 기능을 사용한 예시 (2)\n",
        "\n",
        "Adam optimizer를 사용하고, minimize() 함수를 이용한다.\n",
        "\n",
        "x, y 데이터 세트가 있을 때, 이차 방정식 y = w1x^2 + w2x + b를 만족하는\n",
        "parameter w1, w2, b를 추정한다.\n",
        "\n"
      ]
    },
    {
      "cell_type": "code",
      "metadata": {
        "id": "DVNHP7SWb93L"
      },
      "source": [
        "import tensorflow as tf\n",
        "from tensorflow.keras import optimizers\n",
        "import numpy as np\n",
        "import matplotlib.pyplot as plt\n",
        "\n",
        "# y = 2x^2 + 3x + 5 일 때 x, y 집합을 생성한다\n",
        "x = np.array(np.arange(-5, 5, 0.1))\n",
        "y = 2 * x * x + 3 * x + 5"
      ],
      "execution_count": 1,
      "outputs": []
    },
    {
      "cell_type": "code",
      "metadata": {
        "id": "02FDZyTKdETj"
      },
      "source": [
        "# 그래프를 생성한다.   \n",
        "w1 = tf.Variable(1.0)\n",
        "w2 = tf.Variable(1.0)\n",
        "b = tf.Variable(1.0)"
      ],
      "execution_count": 2,
      "outputs": []
    },
    {
      "cell_type": "code",
      "metadata": {
        "id": "yIOuR5u8dK2A"
      },
      "source": [
        "def loss():\n",
        "    return tf.sqrt(tf.reduce_mean(tf.square(w1 * x * x + w2 * x + b - y)))\n",
        "\n",
        "# Adam optimizers 기능을 사용한다.\n",
        "opt = optimizers.Adam(learning_rate = 0.05)"
      ],
      "execution_count": 3,
      "outputs": []
    },
    {
      "cell_type": "code",
      "metadata": {
        "colab": {
          "base_uri": "https://localhost:8080/"
        },
        "id": "3YxQaRMSdIS2",
        "outputId": "851a3fd5-5d08-49b7-fe40-83c49c4adabb"
      },
      "source": [
        "histLoss = []\n",
        "for epoch in range(300):\n",
        "    opt.minimize(loss, var_list = [w1, w2, b])\n",
        "\n",
        "    histLoss.append(loss())\n",
        "    if epoch % 10 == 0:\n",
        "        print(\"epoch = %d, loss = %.4f\" % (epoch, histLoss[-1]))"
      ],
      "execution_count": 4,
      "outputs": [
        {
          "output_type": "stream",
          "text": [
            "epoch = 0, loss = 14.7423\n",
            "epoch = 10, loss = 8.8664\n",
            "epoch = 20, loss = 3.7497\n",
            "epoch = 30, loss = 2.6245\n",
            "epoch = 40, loss = 1.5730\n",
            "epoch = 50, loss = 1.4259\n",
            "epoch = 60, loss = 1.0459\n",
            "epoch = 70, loss = 0.7123\n",
            "epoch = 80, loss = 0.3878\n",
            "epoch = 90, loss = 0.0551\n",
            "epoch = 100, loss = 0.0903\n",
            "epoch = 110, loss = 0.0910\n",
            "epoch = 120, loss = 0.0444\n",
            "epoch = 130, loss = 0.0488\n",
            "epoch = 140, loss = 0.0423\n",
            "epoch = 150, loss = 0.0335\n",
            "epoch = 160, loss = 0.0473\n",
            "epoch = 170, loss = 0.0446\n",
            "epoch = 180, loss = 0.0375\n",
            "epoch = 190, loss = 0.0441\n",
            "epoch = 200, loss = 0.0354\n",
            "epoch = 210, loss = 0.0425\n",
            "epoch = 220, loss = 0.0341\n",
            "epoch = 230, loss = 0.0413\n",
            "epoch = 240, loss = 0.0332\n",
            "epoch = 250, loss = 0.0404\n",
            "epoch = 260, loss = 0.0326\n",
            "epoch = 270, loss = 0.0396\n",
            "epoch = 280, loss = 0.0321\n",
            "epoch = 290, loss = 0.0390\n"
          ],
          "name": "stdout"
        }
      ]
    },
    {
      "cell_type": "code",
      "metadata": {
        "colab": {
          "base_uri": "https://localhost:8080/"
        },
        "id": "IG7ujtU9dG5Y",
        "outputId": "e15169d7-a2bb-458a-c14b-be9aedf9bc13"
      },
      "source": [
        "print(\"\\n추정 결과 :\")\n",
        "print(\"w1 = %.2f\" % w1.numpy())\n",
        "print(\"w2 = %.2f\" % w2.numpy())\n",
        "print(\"b = %.2f\" % b.numpy())"
      ],
      "execution_count": 5,
      "outputs": [
        {
          "output_type": "stream",
          "text": [
            "\n",
            "추정 결과 :\n",
            "w1 = 2.00\n",
            "w2 = 3.00\n",
            "b = 5.00\n"
          ],
          "name": "stdout"
        }
      ]
    },
    {
      "cell_type": "code",
      "metadata": {
        "colab": {
          "base_uri": "https://localhost:8080/",
          "height": 295
        },
        "id": "ickDNxMgdFGc",
        "outputId": "8b7c3b8b-71c1-4c23-9998-f85e933a7107"
      },
      "source": [
        "plt.plot(histLoss, color='red', linewidth=1)\n",
        "plt.title(\"Loss function\")\n",
        "plt.xlabel(\"epoch\")\n",
        "plt.ylabel(\"loss\")\n",
        "plt.show()"
      ],
      "execution_count": 6,
      "outputs": [
        {
          "output_type": "display_data",
          "data": {
            "image/png": "[encoded data removed]",
            "text/plain": [
              "<Figure size 432x288 with 1 Axes>"
            ]
          },
          "metadata": {
            "tags": [],
            "needs_background": "light"
          }
        }
      ]
    }
  ]
}