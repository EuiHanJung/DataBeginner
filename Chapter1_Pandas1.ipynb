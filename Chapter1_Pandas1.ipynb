{
  "nbformat": 4,
  "nbformat_minor": 0,
  "metadata": {
    "colab": {
      "name": "1_1.ipynb",
      "provenance": [],
      "collapsed_sections": [],
      "mount_file_id": "1K5ALWMZdEv9TE2ntw74d3J3d3hgBr6L4",
      "authorship_tag": "ABX9TyPtuxH8S6LI4igWIKYUBdBn",
      "include_colab_link": true
    },
    "kernelspec": {
      "name": "python3",
      "display_name": "Python 3"
    },
    "language_info": {
      "name": "python"
    }
  },
  "cells": [
    {
      "cell_type": "markdown",
      "metadata": {
        "id": "view-in-github",
        "colab_type": "text"
      },
      "source": [
        "<a href=\"https://colab.research.google.com/github/EuiHanJung/DataBeginner/blob/main/Chapter1_Pandas1.ipynb\" target=\"_parent\"><img src=\"https://colab.research.google.com/assets/colab-badge.svg\" alt=\"Open In Colab\"/></a>"
      ]
    },
    {
      "cell_type": "markdown",
      "metadata": {
        "id": "EtP7F89N2kur"
      },
      "source": [
        "**2021년 5월부터 시작한 5년차 마케터의 개발자 도전기**\n",
        " - 처음부터 차근차근 하겠습니다.\n",
        " - 삼성 멀티캠퍼스 청년혁신 프로젝트 딥러닝, 머신러닝, 자연어처리 과정과 함께합니다.\n",
        " - 대부분의 언어는 파이썬으로 이뤄지며, 자바에 대한 지식만 아주 조금 갖추고 시작합니다.\n",
        "\n",
        "# 1장 : 판다스의 기초\n",
        "\n",
        " 1_1 시리즈"
      ]
    },
    {
      "cell_type": "code",
      "metadata": {
        "id": "uFmCwofdzUkA",
        "colab": {
          "base_uri": "https://localhost:8080/"
        },
        "outputId": "0ae17b2c-de09-45c6-d9fd-6f5cb4ff623a"
      },
      "source": [
        "# pandas 불러오기 \n",
        "import pandas as pd\n",
        "\n",
        "# k:v 구조를 갖는 딕셔너리를 만들고, 변수 dict_data에 저장\n",
        "dict_data = {'a': 1, 'b': 2, 'c': 3}\n",
        "\n",
        "# 판다스 Series() 함수로 딕셔너리(dict_data)를 시리즈로 변환. 변수 sr에 저장 \n",
        "sr = pd.Series(dict_data)\n",
        "\n",
        "# 변수 sr의 자료형 출력\n",
        "print(type(sr))\n",
        "print('\\n')\n",
        "\n",
        "# 변수 sr에 저장되어 있는 시리즈 객체를 출력\n",
        "print(sr)"
      ],
      "execution_count": 1,
      "outputs": [
        {
          "output_type": "stream",
          "text": [
            "<class 'pandas.core.series.Series'>\n",
            "\n",
            "\n",
            "a    1\n",
            "b    2\n",
            "c    3\n",
            "dtype: int64\n"
          ],
          "name": "stdout"
        }
      ]
    },
    {
      "cell_type": "code",
      "metadata": {
        "id": "VGQrwsGL2FVQ",
        "colab": {
          "base_uri": "https://localhost:8080/"
        },
        "outputId": "b5fafc3b-cfc3-400f-ef21-e3aa54422460"
      },
      "source": [
        "# 리스트를 시리즈로 변환하여 변수 sr에 저장\n",
        "list_data = ['2019-01-02', 3.14, 'ABC', 100, True]\n",
        "sr = pd.Series(list_data)\n",
        "print(sr)\n",
        "print('\\n')\n",
        "\n",
        "# 인덱스 배열은 변수 idx에 저장. 데이터 값 배열은 변수 val에 저장\n",
        "idx = sr.index\n",
        "val = sr.values\n",
        "print(idx)\n",
        "print('\\n')\n",
        "print(val)"
      ],
      "execution_count": 2,
      "outputs": [
        {
          "output_type": "stream",
          "text": [
            "0    2019-01-02\n",
            "1          3.14\n",
            "2           ABC\n",
            "3           100\n",
            "4          True\n",
            "dtype: object\n",
            "\n",
            "\n",
            "RangeIndex(start=0, stop=5, step=1)\n",
            "\n",
            "\n",
            "['2019-01-02' 3.14 'ABC' 100 True]\n"
          ],
          "name": "stdout"
        }
      ]
    },
    {
      "cell_type": "code",
      "metadata": {
        "colab": {
          "base_uri": "https://localhost:8080/"
        },
        "id": "TQgzjeYMHQXL",
        "outputId": "0d75254d-24fc-4136-b8df-356c3d601863"
      },
      "source": [
        "# 튜플을 시리즈로 변환(index 옵션에 인덱스 이름을 지정)\n",
        "tup_data = ('영인', '2010-05-01', '여', True)\n",
        "sr = pd.Series(tup_data, index=['이름', '생년월일', '성별', '학생여부'])\n",
        "print(sr)\n",
        "print('\\n')\n",
        "\n",
        "# 원소를 1개 선택\n",
        "print(sr[0])       # sr의 1 번째 원소를 선택 (정수형 위치 인덱스를 활용)\n",
        "print(sr['이름'])  # '이름' 라벨을 가진 원소를 선택 (인덱스 이름을 활용)\n",
        "print('\\n')\n",
        "\n",
        "# 여러 개의 원소를 선택 (인덱스 리스트 활용)\n",
        "print(sr[[1, 2]]) \n",
        "print('\\n')           \n",
        "print(sr[['생년월일', '성별']])\n",
        "print('\\n')\n",
        "\n",
        "# 여러 개의 원소를 선택 (인덱스 범위 지정)\n",
        "print(sr[1 : 2])  \n",
        "print('\\n')              \n",
        "print(sr['생년월일' : '성별'])"
      ],
      "execution_count": 5,
      "outputs": [
        {
          "output_type": "stream",
          "text": [
            "이름              영인\n",
            "생년월일    2010-05-01\n",
            "성별               여\n",
            "학생여부          True\n",
            "dtype: object\n",
            "\n",
            "\n",
            "영인\n",
            "영인\n",
            "\n",
            "\n",
            "생년월일    2010-05-01\n",
            "성별               여\n",
            "dtype: object\n",
            "\n",
            "\n",
            "생년월일    2010-05-01\n",
            "성별               여\n",
            "dtype: object\n",
            "\n",
            "\n",
            "생년월일    2010-05-01\n",
            "dtype: object\n",
            "\n",
            "\n",
            "생년월일    2010-05-01\n",
            "성별               여\n",
            "dtype: object\n"
          ],
          "name": "stdout"
        }
      ]
    },
    {
      "cell_type": "markdown",
      "metadata": {
        "id": "dOdsqa3gKnpQ"
      },
      "source": [
        "**1_2 데이터프레임**\n"
      ]
    },
    {
      "cell_type": "code",
      "metadata": {
        "colab": {
          "base_uri": "https://localhost:8080/"
        },
        "id": "302wHfZlHZrI",
        "outputId": "6e3ea4b5-dbc3-4035-8b02-08766d5039ba"
      },
      "source": [
        "# 열이름을 key로 하고, 리스트를 value로 갖는 딕셔너리 정의(2차원 배열)\n",
        "dict_data = {'c0':[1,2,3], 'c1':[4,5,6], 'c2':[7,8,9], 'c3':[10,11,12], 'c4':[13,14,15]}\n",
        "\n",
        "# 판다스 DataFrame() 함수로 딕셔너리를 데이터프레임으로 변환. 변수 df에 저장. \n",
        "df = pd.DataFrame(dict_data)\n",
        "\n",
        "# df의 자료형 출력\n",
        "print(type(df)) \n",
        "print('\\n')\n",
        "# 변수 df에 저장되어 있는 데이터프레임 객체를 출력\n",
        "print(df)"
      ],
      "execution_count": 6,
      "outputs": [
        {
          "output_type": "stream",
          "text": [
            "<class 'pandas.core.frame.DataFrame'>\n",
            "\n",
            "\n",
            "   c0  c1  c2  c3  c4\n",
            "0   1   4   7  10  13\n",
            "1   2   5   8  11  14\n",
            "2   3   6   9  12  15\n"
          ],
          "name": "stdout"
        }
      ]
    },
    {
      "cell_type": "code",
      "metadata": {
        "colab": {
          "base_uri": "https://localhost:8080/"
        },
        "id": "QXAn1MQ_Hdyx",
        "outputId": "0e86534b-52e9-4328-8942-18277850d650"
      },
      "source": [
        "# 행 인덱스/열 이름 지정하여, 데이터프레임 만들기\n",
        "df = pd.DataFrame([[15, '남', '덕영중'], [17, '여', '수리중']], \n",
        "                   index=['준서', '예은'],\n",
        "                   columns=['나이', '성별', '학교'])\n",
        "\n",
        "# 행 인덱스, 열 이름 확인하기\n",
        "print(df)            #데이터프레임\n",
        "print('\\n')\n",
        "print(df.index)      #행 인덱스\n",
        "print('\\n')\n",
        "print(df.columns)    #열 이름\n",
        "print('\\n')\n",
        "\n",
        "# 행 인덱스, 열 이름 변경하기\n",
        "df.index=['학생1', '학생2']\n",
        "df.columns=['연령', '남녀', '소속']\n",
        "\n",
        "print(df)            #데이터프레임\n",
        "print('\\n')\n",
        "print(df.index)      #행 인덱스\n",
        "print('\\n')\n",
        "print(df.columns)    #열 이름"
      ],
      "execution_count": 7,
      "outputs": [
        {
          "output_type": "stream",
          "text": [
            "    나이 성별   학교\n",
            "준서  15  남  덕영중\n",
            "예은  17  여  수리중\n",
            "\n",
            "\n",
            "Index(['준서', '예은'], dtype='object')\n",
            "\n",
            "\n",
            "Index(['나이', '성별', '학교'], dtype='object')\n",
            "\n",
            "\n",
            "     연령 남녀   소속\n",
            "학생1  15  남  덕영중\n",
            "학생2  17  여  수리중\n",
            "\n",
            "\n",
            "Index(['학생1', '학생2'], dtype='object')\n",
            "\n",
            "\n",
            "Index(['연령', '남녀', '소속'], dtype='object')\n"
          ],
          "name": "stdout"
        }
      ]
    },
    {
      "cell_type": "markdown",
      "metadata": {
        "id": "ITH58LH4L0FX"
      },
      "source": [
        " 1_2 데이터프레임 인덱스 변경하기"
      ]
    },
    {
      "cell_type": "code",
      "metadata": {
        "colab": {
          "base_uri": "https://localhost:8080/"
        },
        "id": "uuOO-hr7HjCv",
        "outputId": "e52b9d0f-9dbf-4d5b-baec-39d56f90b959"
      },
      "source": [
        "# 행 인덱스/열 이름 지정하여, 데이터프레임 만들기\n",
        "df = pd.DataFrame([[15, '남', '덕영중'], [17, '여', '수리중']], \n",
        "                   index=['준서', '예은'],\n",
        "                   columns=['나이', '성별', '학교'])\n",
        "\n",
        "# 데이터프레임 df 출력\n",
        "print(df)\n",
        "print(\"\\n\")\n",
        "\n",
        "# 열 이름 중, '나이'를 '연령'으로, '성별'을 '남녀'로, '학교'를 '소속'으로 바꾸기\n",
        "df.rename(columns={'나이':'연령', '성별':'남녀', '학교':'소속'}, inplace=True)\n",
        "\n",
        "# df의 행 인덱스 중에서, '준서'를 '학생1'로, '예은'을 '학생2'로 바꾸기\n",
        "df.rename(index={'준서':'학생1', '예은':'학생2' }, inplace=True)\n",
        "\n",
        "# df 출력(변경 후)\n",
        "print(df)"
      ],
      "execution_count": 8,
      "outputs": [
        {
          "output_type": "stream",
          "text": [
            "    나이 성별   학교\n",
            "준서  15  남  덕영중\n",
            "예은  17  여  수리중\n",
            "\n",
            "\n",
            "     연령 남녀   소속\n",
            "학생1  15  남  덕영중\n",
            "학생2  17  여  수리중\n"
          ],
          "name": "stdout"
        }
      ]
    },
    {
      "cell_type": "markdown",
      "metadata": {
        "id": "WNvDusmdMPBl"
      },
      "source": [
        "1_2 데이터프레임 행 삭제"
      ]
    },
    {
      "cell_type": "code",
      "metadata": {
        "colab": {
          "base_uri": "https://localhost:8080/"
        },
        "id": "0NdJiVCFHkkB",
        "outputId": "09f4c203-0007-4d98-f877-8b202ee09938"
      },
      "source": [
        "# DataFrame() 함수로 데이터프레임 변환. 변수 df에 저장 \n",
        "exam_data = {'수학' : [ 90, 80, 70], '영어' : [ 98, 89, 95],\n",
        "             '음악' : [ 85, 95, 100], '체육' : [ 100, 90, 90]}\n",
        "\n",
        "df = pd.DataFrame(exam_data, index=['서준', '우현', '인아'])\n",
        "print(df)\n",
        "print('\\n')\n",
        "\n",
        "# 데이터프레임 df를 복제하여 변수 df2에 저장. df2의 1개 행(row)을 삭제\n",
        "df2 = df.copy()\n",
        "df2.drop('우현', axis = 0, inplace=True) #axis = 0 행 / 1은 컬럼\n",
        "print(df2)\n",
        "print('\\n')\n",
        "\n",
        "# 데이터프레임 df를 복제하여 변수 df3에 저장. df3의 2개 행(row)을 삭제\n",
        "df3 = df.copy()\n",
        "df3.drop(['우현', '인아'], axis=0, inplace=True)\n",
        "print(df3)"
      ],
      "execution_count": 9,
      "outputs": [
        {
          "output_type": "stream",
          "text": [
            "    수학  영어   음악   체육\n",
            "서준  90  98   85  100\n",
            "우현  80  89   95   90\n",
            "인아  70  95  100   90\n",
            "\n",
            "\n",
            "    수학  영어   음악   체육\n",
            "서준  90  98   85  100\n",
            "인아  70  95  100   90\n",
            "\n",
            "\n",
            "    수학  영어  음악   체육\n",
            "서준  90  98  85  100\n"
          ],
          "name": "stdout"
        }
      ]
    },
    {
      "cell_type": "markdown",
      "metadata": {
        "id": "fst1YYLcMVM8"
      },
      "source": [
        "1_2 데이터프레임 열 삭제"
      ]
    },
    {
      "cell_type": "code",
      "metadata": {
        "id": "JHHhhfttHo3U"
      },
      "source": [
        "# DataFrame() 함수로 데이터프레임 변환. 변수 df에 저장 \n",
        "exam_data = {'수학' : [ 90, 80, 70], '영어' : [ 98, 89, 95],\n",
        "             '음악' : [ 85, 95, 100], '체육' : [ 100, 90, 90]}\n",
        "\n",
        "df = pd.DataFrame(exam_data, index=['서준', '우현', '인아'])\n",
        "print(df)\n",
        "print('\\n')\n",
        "\n",
        "# 데이터프레임 df를 복제하여 변수 df4에 저장. df4의 1개 열(column)을 삭제\n",
        "df4 = df.copy()\n",
        "df4.drop('수학', axis=1, inplace=True)\n",
        "print(df4)\n",
        "print('\\n')\n",
        "\n",
        "# 데이터프레임 df를 복제하여 변수 df5에 저장. df5의 2개 열(column)을 삭제\n",
        "df5 = df.copy()\n",
        "df5.drop(['영어', '음악'], axis=1, inplace=True)\n",
        "print(df5)"
      ],
      "execution_count": null,
      "outputs": []
    },
    {
      "cell_type": "markdown",
      "metadata": {
        "id": "n9E9uifzMY9r"
      },
      "source": [
        "1_2 데이터프레임 행 인덱스 선택(loc, iloc 인덱서)"
      ]
    },
    {
      "cell_type": "code",
      "metadata": {
        "colab": {
          "base_uri": "https://localhost:8080/"
        },
        "id": "cFg1iKuAHtf5",
        "outputId": "c8fffdac-d87a-447b-d800-016dac933b94"
      },
      "source": [
        "# DataFrame() 함수로 데이터프레임 변환. 변수 df에 저장 \n",
        "exam_data = {'수학' : [ 90, 80, 70], '영어' : [ 98, 89, 95],\n",
        "             '음악' : [ 85, 95, 100], '체육' : [ 100, 90, 90]}\n",
        "\n",
        "df = pd.DataFrame(exam_data, index=['서준', '우현', '인아'])\n",
        "print(df.iloc[0:-1])       # 데이터프레임 출력\n",
        "print('\\n')\n",
        "\n",
        "# 행 인덱스를 사용하여 행 1개를 선택\n",
        "label1 = df.loc['서준']    # loc 인덱서 활용\n",
        "position1 = df.iloc[0]     # iloc 인덱서 활용\n",
        "print(label1)\n",
        "print('\\n')\n",
        "print(position1)\n",
        "print('\\n')\n",
        "\n",
        "# 행 인덱스를 사용하여 2개 이상의 행 선택\n",
        "label2 = df.loc[['서준', '우현']]\n",
        "position2 = df.iloc[[0, 1]]\n",
        "print(label2)\n",
        "print('\\n')\n",
        "print(position2)\n",
        "print('\\n')\n",
        "\n",
        "# 행 인덱스의 범위를 지정하여 행 선택\n",
        "label3 = df.loc['서준':'우현']\n",
        "position3 = df.iloc[0:1]\n",
        "print(label3)\n",
        "print('\\n')\n",
        "print(position3)"
      ],
      "execution_count": 13,
      "outputs": [
        {
          "output_type": "stream",
          "text": [
            "    수학  영어  음악   체육\n",
            "서준  90  98  85  100\n",
            "우현  80  89  95   90\n",
            "\n",
            "\n",
            "수학     90\n",
            "영어     98\n",
            "음악     85\n",
            "체육    100\n",
            "Name: 서준, dtype: int64\n",
            "\n",
            "\n",
            "수학     90\n",
            "영어     98\n",
            "음악     85\n",
            "체육    100\n",
            "Name: 서준, dtype: int64\n",
            "\n",
            "\n",
            "    수학  영어  음악   체육\n",
            "서준  90  98  85  100\n",
            "우현  80  89  95   90\n",
            "\n",
            "\n",
            "    수학  영어  음악   체육\n",
            "서준  90  98  85  100\n",
            "우현  80  89  95   90\n",
            "\n",
            "\n",
            "    수학  영어  음악   체육\n",
            "서준  90  98  85  100\n",
            "우현  80  89  95   90\n",
            "\n",
            "\n",
            "    수학  영어  음악   체육\n",
            "서준  90  98  85  100\n"
          ],
          "name": "stdout"
        }
      ]
    },
    {
      "cell_type": "code",
      "metadata": {
        "colab": {
          "base_uri": "https://localhost:8080/"
        },
        "id": "SERMHlTGHw0A",
        "outputId": "8a2953b1-fd3e-46df-cf55-ffe43de2b154"
      },
      "source": [
        "# DataFrame() 함수로 데이터프레임 변환. 변수 df에 저장 \n",
        "exam_data = {'이름' : [ '서준', '우현', '인아'],\n",
        "             '수학' : [ 90, 80, 70],\n",
        "             '영어' : [ 98, 89, 95],\n",
        "             '음악' : [ 85, 95, 100],\n",
        "             '체육' : [ 100, 90, 90]}\n",
        "df = pd.DataFrame(exam_data)\n",
        "print(df)\n",
        "print(type(df))\n",
        "print('\\n')\n",
        "\n",
        "# '수학' 점수 데이터만 선택. 변수 math1에 저장\n",
        "math1 = df['수학']\n",
        "print(math1)\n",
        "print(type(math1))\n",
        "print('\\n')\n",
        "\n",
        "# '영어' 점수 데이터만 선택. 변수 english에 저장\n",
        "english = df.영어\n",
        "print(english)\n",
        "print(type(english))\n",
        "print('\\n')\n",
        "\n",
        "# '음악', '체육' 점수 데이터를 선택. 변수 music_gym 에 저장\n",
        "music_gym = df[['음악', '체육']]\n",
        "print(music_gym)\n",
        "print(type(music_gym))\n",
        "print('\\n')\n",
        "\n",
        "# '수학' 점수 데이터만 선택. 변수 math2에 저장\n",
        "math2 = df[['수학']]\n",
        "print(math2)\n",
        "print(type(math2))"
      ],
      "execution_count": 10,
      "outputs": [
        {
          "output_type": "stream",
          "text": [
            "   이름  수학  영어   음악   체육\n",
            "0  서준  90  98   85  100\n",
            "1  우현  80  89   95   90\n",
            "2  인아  70  95  100   90\n",
            "<class 'pandas.core.frame.DataFrame'>\n",
            "\n",
            "\n",
            "0    90\n",
            "1    80\n",
            "2    70\n",
            "Name: 수학, dtype: int64\n",
            "<class 'pandas.core.series.Series'>\n",
            "\n",
            "\n",
            "0    98\n",
            "1    89\n",
            "2    95\n",
            "Name: 영어, dtype: int64\n",
            "<class 'pandas.core.series.Series'>\n",
            "\n",
            "\n",
            "    음악   체육\n",
            "0   85  100\n",
            "1   95   90\n",
            "2  100   90\n",
            "<class 'pandas.core.frame.DataFrame'>\n",
            "\n",
            "\n",
            "   수학\n",
            "0  90\n",
            "1  80\n",
            "2  70\n",
            "<class 'pandas.core.frame.DataFrame'>\n"
          ],
          "name": "stdout"
        }
      ]
    }
  ]
}