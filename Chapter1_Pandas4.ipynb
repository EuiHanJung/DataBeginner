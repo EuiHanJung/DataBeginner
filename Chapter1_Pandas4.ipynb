{
  "nbformat": 4,
  "nbformat_minor": 0,
  "metadata": {
    "colab": {
      "name": "Chapter1_Pandas4.ipynb",
      "provenance": [],
      "collapsed_sections": [],
      "authorship_tag": "ABX9TyPRLKOYfoLElOFqY8UMNoK7",
      "include_colab_link": true
    },
    "kernelspec": {
      "name": "python3",
      "display_name": "Python 3"
    },
    "language_info": {
      "name": "python"
    }
  },
  "cells": [
    {
      "cell_type": "markdown",
      "metadata": {
        "id": "view-in-github",
        "colab_type": "text"
      },
      "source": [
        "<a href=\"https://colab.research.google.com/github/EuiHanJung/DataBeginner/blob/main/Chapter1_Pandas4.ipynb\" target=\"_parent\"><img src=\"https://colab.research.google.com/assets/colab-badge.svg\" alt=\"Open In Colab\"/></a>"
      ]
    },
    {
      "cell_type": "markdown",
      "metadata": {
        "id": "XVe8UfWRdG52"
      },
      "source": [
        "# 1장 : 판다스의 기초 _ 3일차\n",
        "\n",
        "1_3 csv파일 불러오기"
      ]
    },
    {
      "cell_type": "code",
      "metadata": {
        "id": "JbI77pWidCXx"
      },
      "source": [
        "# 라이브러리 불러오기\n",
        "import pandas as pd\n",
        "\n",
        "# 파일경로를 찾고, 변수 file_path에 저장\n",
        "file_path = 'read_csv_sample.csv'\n",
        "\n",
        "# read_csv() 함수로 데이터프레임 변환. 변수 df1에 저장\n",
        "df1 = pd.read_csv(file_path)\n",
        "print(df1)\n",
        "print('\\n')\n",
        "\n",
        "# read_csv() 함수로 데이터프레임 변환. 변수 df2에 저장. header=None 옵션\n",
        "df2 = pd.read_csv(file_path, header=None)\n",
        "print(df2)\n",
        "print('\\n')\n",
        "\n",
        "# read_csv() 함수로 데이터프레임 변환. 변수 df3에 저장. index_col=None 옵션\n",
        "df3 = pd.read_csv(file_path, index_col=None)\n",
        "print(df3)\n",
        "print('\\n')\n",
        "\n",
        "# read_csv() 함수로 데이터프레임 변환. 변수 df4에 저장. index_col='c0' 옵션\n",
        "df4 = pd.read_csv(file_path, index_col='c0')\n",
        "print(df4)"
      ],
      "execution_count": null,
      "outputs": []
    },
    {
      "cell_type": "markdown",
      "metadata": {
        "id": "FJv0yrKBdiLK"
      },
      "source": [
        "1_3 엑셀 파일 불러오기"
      ]
    },
    {
      "cell_type": "code",
      "metadata": {
        "id": "66wMda37daar"
      },
      "source": [
        "# read_excel() 함수로 데이터프레임 변환 \n",
        "df1 = pd.read_excel('./남북한발전전력량.xlsx')            # header=0 (default 옵션)\n",
        "df2 = pd.read_excel('./남북한발전전력량.xlsx', header=None)  # header=None 옵션\n",
        "\n",
        "# 데이터프레임 출력\n",
        "print(df1)\n",
        "print('\\n')\n",
        "print(df2)"
      ],
      "execution_count": null,
      "outputs": []
    },
    {
      "cell_type": "markdown",
      "metadata": {
        "id": "dvcabJ0Mdl63"
      },
      "source": [
        "1_3 제이슨 파일 불러오기"
      ]
    },
    {
      "cell_type": "code",
      "metadata": {
        "id": "-a2952_1dnte"
      },
      "source": [
        "# read_json() 함수로 데이터프레임 변환 \n",
        "df = pd.read_json('./read_json_sample.json')  \n",
        "print(df)\n",
        "print('\\n')\n",
        "print(df.index)"
      ],
      "execution_count": null,
      "outputs": []
    },
    {
      "cell_type": "markdown",
      "metadata": {
        "id": "b0sHeSTOdnoA"
      },
      "source": [
        "1_3 Html 파일 불러오기"
      ]
    },
    {
      "cell_type": "code",
      "metadata": {
        "id": "3_2edAD0dm1d"
      },
      "source": [
        "# HTML 파일 경로 or 웹 페이지 주소를 url 변수에 저장\n",
        "url ='./sample.html'\n",
        "\n",
        "# HTML 웹페이지의 표(table)를 가져와서 데이터프레임으로 변환 \n",
        "tables = pd.read_html(url)\n",
        "\n",
        "# 표(table)의 개수 확인\n",
        "print(len(tables))\n",
        "print('\\n')\n",
        "\n",
        "# tables 리스트의 원소를 iteration하면서 각각 화면 출력\n",
        "for i in range(len(tables)):\n",
        "    print(\"tables[%s]\" % i)\n",
        "    print(tables[i])\n",
        "    print('\\n')\n",
        "\n",
        "# 파이썬 패키지 정보가 들어 있는 두 번째 데이터프레임을 선택하여 df 변수에 저장\n",
        "df = tables[1] \n",
        "\n",
        "# 'name' 열을 인덱스로 지정\n",
        "df.set_index(['name'], inplace=True)\n",
        "print(df)"
      ],
      "execution_count": null,
      "outputs": []
    },
    {
      "cell_type": "markdown",
      "metadata": {
        "id": "MV0CQu6Rdo2S"
      },
      "source": [
        "1_3 데이터프레임 csv로 내보내기"
      ]
    },
    {
      "cell_type": "code",
      "metadata": {
        "id": "28kzDN2qdpA4"
      },
      "source": [
        "# 판다스 DataFrame() 함수로 데이터프레임 변환. 변수 df에 저장 \n",
        "data = {'name' : [ 'Jerry', 'Riah', 'Paul'],\n",
        "        'algol' : [ \"A\", \"A+\", \"B\"],\n",
        "        'basic' : [ \"C\", \"B\", \"B+\"],\n",
        "        'c++' : [ \"B+\", \"C\", \"C+\"],\n",
        "        }\n",
        "\n",
        "df = pd.DataFrame(data)\n",
        "df.set_index('name', inplace=True)   #name 열을 인덱스로 지정\n",
        "print(df)\n",
        "\n",
        "# to_csv() 메소드를 사용하여 CSV 파일로 내보내기. 파열명은 df_sample.csv로 저장\n",
        "df.to_csv(\"./df_sample.csv\")"
      ],
      "execution_count": null,
      "outputs": []
    },
    {
      "cell_type": "markdown",
      "metadata": {
        "id": "ARtd_KKTdpc_"
      },
      "source": [
        "1_3 데이터프레임 json파일로 내보내기"
      ]
    },
    {
      "cell_type": "code",
      "metadata": {
        "id": "IE_LS5oWdpiB"
      },
      "source": [
        "# 판다스 DataFrame() 함수로 데이터프레임 변환. 변수 df에 저장 \n",
        "data = {'name' : [ 'Jerry', 'Riah', 'Paul'],\n",
        "        'algol' : [ \"A\", \"A+\", \"B\"],\n",
        "        'basic' : [ \"C\", \"B\", \"B+\"],\n",
        "        'c++' : [ \"B+\", \"C\", \"C+\"],\n",
        "        }\n",
        "\n",
        "df = pd.DataFrame(data)\n",
        "df.set_index('name', inplace=True)   #name 열을 인덱스로 지정\n",
        "print(df)\n",
        "\n",
        "# to_json() 메소드를 사용하여 JSON 파일로 내보내기. 파열명은 df_sample.json로 저장\n",
        "df.to_json(\"./df_sample.json\")"
      ],
      "execution_count": null,
      "outputs": []
    },
    {
      "cell_type": "markdown",
      "metadata": {
        "id": "iJnTrWgtdpxy"
      },
      "source": [
        "1_3 데이터프레임 엑셀파일로 내보내기"
      ]
    },
    {
      "cell_type": "code",
      "metadata": {
        "id": "6s-INg_ldp12"
      },
      "source": [
        "# 판다스 DataFrame() 함수로 데이터프레임 변환. 변수 df에 저장 \n",
        "data = {'name' : [ 'Jerry', 'Riah', 'Paul'],\n",
        "        'algol' : [ \"A\", \"A+\", \"B\"],\n",
        "        'basic' : [ \"C\", \"B\", \"B+\"],\n",
        "        'c++' : [ \"B+\", \"C\", \"C+\"],\n",
        "        }\n",
        "\n",
        "df = pd.DataFrame(data)\n",
        "df.set_index('name', inplace=True)   #name 열을 인덱스로 지정\n",
        "print(df)\n",
        "\n",
        "# to_excel() 메소드를 사용하여 엑셀 파일로 내보내기. 파열명은 df_sample.xlsx로 저장\n",
        "df.to_excel(\"./df_sample.xlsx\")"
      ],
      "execution_count": null,
      "outputs": []
    },
    {
      "cell_type": "markdown",
      "metadata": {
        "id": "1lBMLy-4dp_m"
      },
      "source": [
        "1_3 데이터프레임 2개 각각 엑셀파일로 내보내기"
      ]
    },
    {
      "cell_type": "code",
      "metadata": {
        "id": "_k3JjNg1dqDS"
      },
      "source": [
        "# 판다스 DataFrame() 함수로 데이터프레임 변환. 변수 df1, df2에 저장 \n",
        "data1 = {'name' : [ 'Jerry', 'Riah', 'Paul'],\n",
        "         'algol' : [ \"A\", \"A+\", \"B\"],\n",
        "         'basic' : [ \"C\", \"B\", \"B+\"],\n",
        "          'c++' : [ \"B+\", \"C\", \"C+\"]}\n",
        "\n",
        "data2 = {'c0':[1,2,3], \n",
        "         'c1':[4,5,6], \n",
        "         'c2':[7,8,9], \n",
        "         'c3':[10,11,12], \n",
        "         'c4':[13,14,15]}\n",
        "\n",
        "df1 = pd.DataFrame(data1)\n",
        "df1.set_index('name', inplace=True)      #name 열을 인덱스로 지정\n",
        "print(df1)\n",
        "print('\\n')\n",
        "\n",
        "df2 = pd.DataFrame(data2)\n",
        "df2.set_index('c0', inplace=True)        #c0 열을 인덱스로 지정\n",
        "print(df2)\n",
        "\n",
        "# df1을 'sheet1'으로, df2를 'sheet2'로 저장 (엑셀파일명은 \"df_excelwriter.xlsx\")\n",
        "writer = pd.ExcelWriter(\"./df_excelwriter.xlsx\")\n",
        "df1.to_excel(writer, sheet_name=\"sheet1\")\n",
        "df2.to_excel(writer, sheet_name=\"sheet2\")\n",
        "writer.save()"
      ],
      "execution_count": null,
      "outputs": []
    }
  ]
}