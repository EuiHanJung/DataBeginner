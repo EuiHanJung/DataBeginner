{
  "nbformat": 4,
  "nbformat_minor": 0,
  "metadata": {
    "colab": {
      "name": "Chapter2_Tensorflow1.ipynb",
      "provenance": [],
      "authorship_tag": "ABX9TyOSACKjs5hinZ2aW05f1ndj",
      "include_colab_link": true
    },
    "kernelspec": {
      "name": "python3",
      "display_name": "Python 3"
    },
    "language_info": {
      "name": "python"
    }
  },
  "cells": [
    {
      "cell_type": "markdown",
      "metadata": {
        "id": "view-in-github",
        "colab_type": "text"
      },
      "source": [
        "<a href=\"https://colab.research.google.com/github/EuiHanJung/DataBeginner/blob/main/Chapter2_Tensorflow1.ipynb\" target=\"_parent\"><img src=\"https://colab.research.google.com/assets/colab-badge.svg\" alt=\"Open In Colab\"/></a>"
      ]
    },
    {
      "cell_type": "markdown",
      "metadata": {
        "id": "KVkyc5k_jG74"
      },
      "source": [
        "# 2장 텐서플로우\n",
        "\n",
        "Tensorflow 버전 : 직접 미분한 방법을 사용한 예시\n",
        "\n",
        "x, y 데이터 세트가 있을 때, 이차 방정식 y = w1x^2 + w2x + b를 만족하는\n",
        "\n",
        "parameter w1, w2, b를 추정한다."
      ]
    },
    {
      "cell_type": "code",
      "metadata": {
        "id": "V7Nx9OMDhdye"
      },
      "source": [
        "import tensorflow as tf\n",
        "import numpy as np\n",
        "import matplotlib.pyplot as plt"
      ],
      "execution_count": 1,
      "outputs": []
    },
    {
      "cell_type": "code",
      "metadata": {
        "colab": {
          "base_uri": "https://localhost:8080/"
        },
        "id": "k4nkCvIehqQK",
        "outputId": "d76bb64b-d9f2-4c66-d135-fa6165e706c5"
      },
      "source": [
        "# y = 2x^2 + 3x + 5 일 때 x, y 데이터 집합을 생성한다\n",
        "x = np.array(np.arange(-5, 5, 0.1))\n",
        "y = 2 * x * x + 3 * x + 5\n",
        "x, y"
      ],
      "execution_count": 4,
      "outputs": [
        {
          "output_type": "execute_result",
          "data": {
            "text/plain": [
              "(array([-5.00000000e+00, -4.90000000e+00, -4.80000000e+00, -4.70000000e+00,\n",
              "        -4.60000000e+00, -4.50000000e+00, -4.40000000e+00, -4.30000000e+00,\n",
              "        -4.20000000e+00, -4.10000000e+00, -4.00000000e+00, -3.90000000e+00,\n",
              "        -3.80000000e+00, -3.70000000e+00, -3.60000000e+00, -3.50000000e+00,\n",
              "        -3.40000000e+00, -3.30000000e+00, -3.20000000e+00, -3.10000000e+00,\n",
              "        -3.00000000e+00, -2.90000000e+00, -2.80000000e+00, -2.70000000e+00,\n",
              "        -2.60000000e+00, -2.50000000e+00, -2.40000000e+00, -2.30000000e+00,\n",
              "        -2.20000000e+00, -2.10000000e+00, -2.00000000e+00, -1.90000000e+00,\n",
              "        -1.80000000e+00, -1.70000000e+00, -1.60000000e+00, -1.50000000e+00,\n",
              "        -1.40000000e+00, -1.30000000e+00, -1.20000000e+00, -1.10000000e+00,\n",
              "        -1.00000000e+00, -9.00000000e-01, -8.00000000e-01, -7.00000000e-01,\n",
              "        -6.00000000e-01, -5.00000000e-01, -4.00000000e-01, -3.00000000e-01,\n",
              "        -2.00000000e-01, -1.00000000e-01, -1.77635684e-14,  1.00000000e-01,\n",
              "         2.00000000e-01,  3.00000000e-01,  4.00000000e-01,  5.00000000e-01,\n",
              "         6.00000000e-01,  7.00000000e-01,  8.00000000e-01,  9.00000000e-01,\n",
              "         1.00000000e+00,  1.10000000e+00,  1.20000000e+00,  1.30000000e+00,\n",
              "         1.40000000e+00,  1.50000000e+00,  1.60000000e+00,  1.70000000e+00,\n",
              "         1.80000000e+00,  1.90000000e+00,  2.00000000e+00,  2.10000000e+00,\n",
              "         2.20000000e+00,  2.30000000e+00,  2.40000000e+00,  2.50000000e+00,\n",
              "         2.60000000e+00,  2.70000000e+00,  2.80000000e+00,  2.90000000e+00,\n",
              "         3.00000000e+00,  3.10000000e+00,  3.20000000e+00,  3.30000000e+00,\n",
              "         3.40000000e+00,  3.50000000e+00,  3.60000000e+00,  3.70000000e+00,\n",
              "         3.80000000e+00,  3.90000000e+00,  4.00000000e+00,  4.10000000e+00,\n",
              "         4.20000000e+00,  4.30000000e+00,  4.40000000e+00,  4.50000000e+00,\n",
              "         4.60000000e+00,  4.70000000e+00,  4.80000000e+00,  4.90000000e+00]),\n",
              " array([40.  , 38.32, 36.68, 35.08, 33.52, 32.  , 30.52, 29.08, 27.68,\n",
              "        26.32, 25.  , 23.72, 22.48, 21.28, 20.12, 19.  , 17.92, 16.88,\n",
              "        15.88, 14.92, 14.  , 13.12, 12.28, 11.48, 10.72, 10.  ,  9.32,\n",
              "         8.68,  8.08,  7.52,  7.  ,  6.52,  6.08,  5.68,  5.32,  5.  ,\n",
              "         4.72,  4.48,  4.28,  4.12,  4.  ,  3.92,  3.88,  3.88,  3.92,\n",
              "         4.  ,  4.12,  4.28,  4.48,  4.72,  5.  ,  5.32,  5.68,  6.08,\n",
              "         6.52,  7.  ,  7.52,  8.08,  8.68,  9.32, 10.  , 10.72, 11.48,\n",
              "        12.28, 13.12, 14.  , 14.92, 15.88, 16.88, 17.92, 19.  , 20.12,\n",
              "        21.28, 22.48, 23.72, 25.  , 26.32, 27.68, 29.08, 30.52, 32.  ,\n",
              "        33.52, 35.08, 36.68, 38.32, 40.  , 41.72, 43.48, 45.28, 47.12,\n",
              "        49.  , 50.92, 52.88, 54.88, 56.92, 59.  , 61.12, 63.28, 65.48,\n",
              "        67.72]))"
            ]
          },
          "metadata": {
            "tags": []
          },
          "execution_count": 4
        }
      ]
    },
    {
      "cell_type": "code",
      "metadata": {
        "id": "6lEY_pgkhtDl"
      },
      "source": [
        "# x, y 만족하는 w1, w2, b를 찾는다.\n",
        "# y = w1x^2 + w2x + b -->  w1 = 2, w2 = 3, b = 5가 나와야 한다.\n",
        "lr = 0.01   # learning rate"
      ],
      "execution_count": 5,
      "outputs": []
    },
    {
      "cell_type": "code",
      "metadata": {
        "colab": {
          "base_uri": "https://localhost:8080/"
        },
        "id": "cBqb02vLhujM",
        "outputId": "af885eeb-3b86-46a9-d085-1bd854eb3119"
      },
      "source": [
        "# 그래프를 생성한다.   \n",
        "w1 = tf.Variable(1.0)\n",
        "w2 = tf.Variable(1.0)\n",
        "b = tf.Variable(1.0)\n",
        "w1, w2, b"
      ],
      "execution_count": 7,
      "outputs": [
        {
          "output_type": "execute_result",
          "data": {
            "text/plain": [
              "(<tf.Variable 'Variable:0' shape=() dtype=float32, numpy=1.0>,\n",
              " <tf.Variable 'Variable:0' shape=() dtype=float32, numpy=1.0>,\n",
              " <tf.Variable 'Variable:0' shape=() dtype=float32, numpy=1.0>)"
            ]
          },
          "metadata": {
            "tags": []
          },
          "execution_count": 7
        }
      ]
    },
    {
      "cell_type": "code",
      "metadata": {
        "colab": {
          "base_uri": "https://localhost:8080/"
        },
        "id": "UhNDZXijhxyK",
        "outputId": "bf0c261f-0d48-4f50-b51e-9bc78b4da568"
      },
      "source": [
        "histLoss = []\n",
        "for epoch in range(1000):\n",
        "    with tf.GradientTape() as tape:\n",
        "        # loss 함수 : root mean squared error\n",
        "        loss = tf.sqrt(tf.reduce_mean(tf.square(w1 * x * x + w2 * x + b - y)))\n",
        "        \n",
        "        # loss에 대한 각 variable들의 미분값을 계산한다.\n",
        "        dw1, dw2, db = tape.gradient(loss, [w1, w2, b])\n",
        "        \n",
        "    # variable들을 업데이트한다 (Gradient descent)\n",
        "    w1.assign_sub(lr * dw1)     # w1 <- w1 - lr * dw1의 의미\n",
        "    w2.assign_sub(lr * dw2)     # w2.assign(w2 - lr * dw2.numpy())와 동일함\n",
        "    b.assign_sub(lr * db)\n",
        "    \n",
        "    if epoch % 10 == 0:\n",
        "        histLoss.append(loss.numpy())\n",
        "        print(\"epoch = %d, loss = %.4f\" % (epoch, loss.numpy()))\n",
        "\n",
        "print(\"\\n추정 결과 :\")\n",
        "print(\"w1 = %.2f\" % w1.numpy())\n",
        "print(\"w2 = %.2f\" % w2.numpy())\n",
        "print(\"b = %.2f\" % b.numpy())\n",
        "print(\"final loss = %.4f\" % loss.numpy())"
      ],
      "execution_count": 8,
      "outputs": [
        {
          "output_type": "stream",
          "text": [
            "epoch = 0, loss = 15.3396\n",
            "epoch = 10, loss = 7.1791\n",
            "epoch = 20, loss = 5.3826\n",
            "epoch = 30, loss = 4.7400\n",
            "epoch = 40, loss = 4.1643\n",
            "epoch = 50, loss = 3.6579\n",
            "epoch = 60, loss = 3.2357\n",
            "epoch = 70, loss = 2.9064\n",
            "epoch = 80, loss = 2.6668\n",
            "epoch = 90, loss = 2.5011\n",
            "epoch = 100, loss = 2.3874\n",
            "epoch = 110, loss = 2.3059\n",
            "epoch = 120, loss = 2.2426\n",
            "epoch = 130, loss = 2.1889\n",
            "epoch = 140, loss = 2.1400\n",
            "epoch = 150, loss = 2.0936\n",
            "epoch = 160, loss = 2.0483\n",
            "epoch = 170, loss = 2.0036\n",
            "epoch = 180, loss = 1.9592\n",
            "epoch = 190, loss = 1.9148\n",
            "epoch = 200, loss = 1.8706\n",
            "epoch = 210, loss = 1.8263\n",
            "epoch = 220, loss = 1.7820\n",
            "epoch = 230, loss = 1.7378\n",
            "epoch = 240, loss = 1.6935\n",
            "epoch = 250, loss = 1.6493\n",
            "epoch = 260, loss = 1.6050\n",
            "epoch = 270, loss = 1.5608\n",
            "epoch = 280, loss = 1.5165\n",
            "epoch = 290, loss = 1.4723\n",
            "epoch = 300, loss = 1.4280\n",
            "epoch = 310, loss = 1.3838\n",
            "epoch = 320, loss = 1.3396\n",
            "epoch = 330, loss = 1.2953\n",
            "epoch = 340, loss = 1.2511\n",
            "epoch = 350, loss = 1.2068\n",
            "epoch = 360, loss = 1.1626\n",
            "epoch = 370, loss = 1.1183\n",
            "epoch = 380, loss = 1.0741\n",
            "epoch = 390, loss = 1.0298\n",
            "epoch = 400, loss = 0.9856\n",
            "epoch = 410, loss = 0.9413\n",
            "epoch = 420, loss = 0.8971\n",
            "epoch = 430, loss = 0.8528\n",
            "epoch = 440, loss = 0.8086\n",
            "epoch = 450, loss = 0.7643\n",
            "epoch = 460, loss = 0.7201\n",
            "epoch = 470, loss = 0.6758\n",
            "epoch = 480, loss = 0.6316\n",
            "epoch = 490, loss = 0.5873\n",
            "epoch = 500, loss = 0.5431\n",
            "epoch = 510, loss = 0.4988\n",
            "epoch = 520, loss = 0.4725\n",
            "epoch = 530, loss = 0.6264\n",
            "epoch = 540, loss = 0.6268\n",
            "epoch = 550, loss = 0.6271\n",
            "epoch = 560, loss = 0.6273\n",
            "epoch = 570, loss = 0.6275\n",
            "epoch = 580, loss = 0.6276\n",
            "epoch = 590, loss = 0.6277\n",
            "epoch = 600, loss = 0.6278\n",
            "epoch = 610, loss = 0.6279\n",
            "epoch = 620, loss = 0.6279\n",
            "epoch = 630, loss = 0.6280\n",
            "epoch = 640, loss = 0.6280\n",
            "epoch = 650, loss = 0.6281\n",
            "epoch = 660, loss = 0.6281\n",
            "epoch = 670, loss = 0.6281\n",
            "epoch = 680, loss = 0.6281\n",
            "epoch = 690, loss = 0.6282\n",
            "epoch = 700, loss = 0.6282\n",
            "epoch = 710, loss = 0.6282\n",
            "epoch = 720, loss = 0.6282\n",
            "epoch = 730, loss = 0.6282\n",
            "epoch = 740, loss = 0.6282\n",
            "epoch = 750, loss = 0.6282\n",
            "epoch = 760, loss = 0.6282\n",
            "epoch = 770, loss = 0.6282\n",
            "epoch = 780, loss = 0.6282\n",
            "epoch = 790, loss = 0.6282\n",
            "epoch = 800, loss = 0.6282\n",
            "epoch = 810, loss = 0.6282\n",
            "epoch = 820, loss = 0.6283\n",
            "epoch = 830, loss = 0.6283\n",
            "epoch = 840, loss = 0.6283\n",
            "epoch = 850, loss = 0.6283\n",
            "epoch = 860, loss = 0.6283\n",
            "epoch = 870, loss = 0.6283\n",
            "epoch = 880, loss = 0.6283\n",
            "epoch = 890, loss = 0.6283\n",
            "epoch = 900, loss = 0.6283\n",
            "epoch = 910, loss = 0.6283\n",
            "epoch = 920, loss = 0.6283\n",
            "epoch = 930, loss = 0.6283\n",
            "epoch = 940, loss = 0.6283\n",
            "epoch = 950, loss = 0.6283\n",
            "epoch = 960, loss = 0.6283\n",
            "epoch = 970, loss = 0.6283\n",
            "epoch = 980, loss = 0.6283\n",
            "epoch = 990, loss = 0.6283\n",
            "\n",
            "추정 결과 :\n",
            "w1 = 1.95\n",
            "w2 = 3.00\n",
            "b = 4.97\n",
            "final loss = 0.6283\n"
          ],
          "name": "stdout"
        }
      ]
    },
    {
      "cell_type": "code",
      "metadata": {
        "colab": {
          "base_uri": "https://localhost:8080/",
          "height": 295
        },
        "id": "xm0UjQvHh0_k",
        "outputId": "68c056e7-1e28-41f0-a476-1f1575577c89"
      },
      "source": [
        "plt.plot(histLoss, color='red', linewidth=1)\n",
        "plt.title(\"Loss function\")\n",
        "plt.xlabel(\"epoch\")\n",
        "plt.ylabel(\"loss\")\n",
        "plt.show()"
      ],
      "execution_count": 9,
      "outputs": [
        {
          "output_type": "display_data",
          "data": {
            "image/png": "[encoded data removed]",
            "text/plain": [
              "<Figure size 432x288 with 1 Axes>"
            ]
          },
          "metadata": {
            "tags": [],
            "needs_background": "light"
          }
        }
      ]
    }
  ]
}