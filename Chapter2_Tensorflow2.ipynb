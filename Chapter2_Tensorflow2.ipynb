{
  "nbformat": 4,
  "nbformat_minor": 0,
  "metadata": {
    "colab": {
      "name": "Chapter2_Tensorflow2.ipynb",
      "provenance": [],
      "authorship_tag": "ABX9TyPqrTHjmb0RpkKGxdAFYzxp",
      "include_colab_link": true
    },
    "kernelspec": {
      "name": "python3",
      "display_name": "Python 3"
    },
    "language_info": {
      "name": "python"
    }
  },
  "cells": [
    {
      "cell_type": "markdown",
      "metadata": {
        "id": "view-in-github",
        "colab_type": "text"
      },
      "source": [
        "<a href=\"https://colab.research.google.com/github/EuiHanJung/DataBeginner/blob/main/Chapter2_Tensorflow2.ipynb\" target=\"_parent\"><img src=\"https://colab.research.google.com/assets/colab-badge.svg\" alt=\"Open In Colab\"/></a>"
      ]
    },
    {
      "cell_type": "markdown",
      "metadata": {
        "id": "dZBgtw-ztsdg"
      },
      "source": [
        "# 2장 텐서플로우\n",
        "\n",
        "Tensorflow 버전 : Optimizers 기능을 사용한 예시 (1) - SGD + Momentum\n",
        "\n",
        "x, y 데이터 세트가 있을 때, 이차 방정식 y = w1x^2 + w2x + b를 만족하는\n",
        "\n",
        "parameter w1, w2, b를 추정한다.\n"
      ]
    },
    {
      "cell_type": "code",
      "metadata": {
        "id": "urbRuE3ItfCd"
      },
      "source": [
        "import tensorflow as tf\n",
        "from tensorflow.keras import optimizers\n",
        "import numpy as np\n",
        "import matplotlib.pyplot as plt\n",
        "\n",
        "# y = 2x^2 + 3x + 5 일 때 x, y 집합을 생성한다\n",
        "x = np.array(np.arange(-5, 5, 0.1))\n",
        "y = 2 * x * x + 3 * x + 5"
      ],
      "execution_count": 1,
      "outputs": []
    },
    {
      "cell_type": "code",
      "metadata": {
        "id": "bhjOO1_Jt3nP"
      },
      "source": [
        "# 그래프를 생성한다.   \n",
        "w1 = tf.Variable(1.0)\n",
        "w2 = tf.Variable(1.0)\n",
        "b = tf.Variable(1.0)\n",
        "var_list = [w1, w2, b]  # variable list"
      ],
      "execution_count": 2,
      "outputs": []
    },
    {
      "cell_type": "code",
      "metadata": {
        "colab": {
          "base_uri": "https://localhost:8080/"
        },
        "id": "yt_93QLRt-Vz",
        "outputId": "4e6d65f7-3729-435d-f25a-1a365703ab3f"
      },
      "source": [
        "# SGD optimizers 기능을 사용하고, Momentum 방법을 사용한다.\n",
        "opt = optimizers.SGD(learning_rate = 0.01, momentum = 0.7, nesterov = False)\n",
        "opt"
      ],
      "execution_count": 4,
      "outputs": [
        {
          "output_type": "execute_result",
          "data": {
            "text/plain": [
              "<tensorflow.python.keras.optimizer_v2.gradient_descent.SGD at 0x7f1ba29db9d0>"
            ]
          },
          "metadata": {
            "tags": []
          },
          "execution_count": 4
        }
      ]
    },
    {
      "cell_type": "code",
      "metadata": {
        "colab": {
          "base_uri": "https://localhost:8080/"
        },
        "id": "ikGn-xpot8xx",
        "outputId": "a3528ae4-d403-4987-b727-ad85544c1834"
      },
      "source": [
        "histLoss = []\n",
        "for epoch in range(300):\n",
        "    with tf.GradientTape() as tape:\n",
        "        # root mean squared error\n",
        "        loss = tf.sqrt(tf.reduce_mean(tf.square(w1 * x * x + w2 * x + b - y)))\n",
        "        \n",
        "    # loss에 대한 각 variable들의 미분값을 계산한다.\n",
        "    grads = tape.gradient(loss, var_list)\n",
        "    \n",
        "    # variable들을 업데이트한다 (Gradient descent)\n",
        "    opt.apply_gradients(zip(grads, var_list))\n",
        "    \n",
        "    if epoch % 10 == 0:\n",
        "        histLoss.append(loss.numpy())\n",
        "        print(\"epoch = %d, loss = %.4f\" % (epoch, loss.numpy()))"
      ],
      "execution_count": 5,
      "outputs": [
        {
          "output_type": "stream",
          "text": [
            "epoch = 0, loss = 15.3396\n",
            "epoch = 10, loss = 5.6257\n",
            "epoch = 20, loss = 3.4174\n",
            "epoch = 30, loss = 2.4758\n",
            "epoch = 40, loss = 2.2360\n",
            "epoch = 50, loss = 2.0873\n",
            "epoch = 60, loss = 1.9398\n",
            "epoch = 70, loss = 1.7923\n",
            "epoch = 80, loss = 1.6448\n",
            "epoch = 90, loss = 1.4973\n",
            "epoch = 100, loss = 1.3498\n",
            "epoch = 110, loss = 1.2023\n",
            "epoch = 120, loss = 1.0548\n",
            "epoch = 130, loss = 0.9073\n",
            "epoch = 140, loss = 0.7598\n",
            "epoch = 150, loss = 0.6123\n",
            "epoch = 160, loss = 0.4648\n",
            "epoch = 170, loss = 0.3174\n",
            "epoch = 180, loss = 0.5601\n",
            "epoch = 190, loss = 0.1542\n",
            "epoch = 200, loss = 0.0578\n",
            "epoch = 210, loss = 1.5216\n",
            "epoch = 220, loss = 0.8301\n",
            "epoch = 230, loss = 0.3389\n",
            "epoch = 240, loss = 0.6679\n",
            "epoch = 250, loss = 2.4062\n",
            "epoch = 260, loss = 0.0390\n",
            "epoch = 270, loss = 1.4391\n",
            "epoch = 280, loss = 0.8322\n",
            "epoch = 290, loss = 0.3389\n"
          ],
          "name": "stdout"
        }
      ]
    },
    {
      "cell_type": "code",
      "metadata": {
        "colab": {
          "base_uri": "https://localhost:8080/"
        },
        "id": "owZJGxjmt5Zm",
        "outputId": "143707af-aa33-4a2e-b38e-4d39a211cb56"
      },
      "source": [
        "print(\"\\n추정 결과 :\")\n",
        "print(\"w1 = %.2f\" % w1.numpy())\n",
        "print(\"w2 = %.2f\" % w2.numpy())\n",
        "print(\"b = %.2f\" % b.numpy())\n",
        "print(\"final loss = %.4f\" % loss.numpy())"
      ],
      "execution_count": 6,
      "outputs": [
        {
          "output_type": "stream",
          "text": [
            "\n",
            "추정 결과 :\n",
            "w1 = 1.94\n",
            "w2 = 3.00\n",
            "b = 5.00\n",
            "final loss = 1.3370\n"
          ],
          "name": "stdout"
        }
      ]
    },
    {
      "cell_type": "code",
      "metadata": {
        "colab": {
          "base_uri": "https://localhost:8080/",
          "height": 295
        },
        "id": "52wUSTlBt4pk",
        "outputId": "cf9f2a7c-70fd-4e1a-eb71-05d93a875a6d"
      },
      "source": [
        "plt.plot(histLoss, color='red', linewidth=1)\n",
        "plt.title(\"Loss function\")\n",
        "plt.xlabel(\"epoch\")\n",
        "plt.ylabel(\"loss\")\n",
        "plt.show()"
      ],
      "execution_count": 7,
      "outputs": [
        {
          "output_type": "display_data",
          "data": {
            "image/png": "[encoded data removed]",
            "text/plain": [
              "<Figure size 432x288 with 1 Axes>"
            ]
          },
          "metadata": {
            "tags": [],
            "needs_background": "light"
          }
        }
      ]
    }
  ]
}